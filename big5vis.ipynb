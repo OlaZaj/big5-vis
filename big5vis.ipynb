{
 "cells": [
  {
   "cell_type": "code",
   "execution_count": 6,
   "metadata": {},
   "outputs": [],
   "source": [
    "import altair as alt\n",
    "import pandas as pd\n",
    "from vega_datasets import data"
   ]
  },
  {
   "cell_type": "code",
   "execution_count": 52,
   "metadata": {},
   "outputs": [],
   "source": [
    "data=pd.DataFrame({\n",
    "    \"Personality traits\" : [\"Openness\", \"Extroversion\", \"Agreeableness\", \"Conscientiousness\", \"Neuroticism\"],\n",
    "    \"values\" : [8,6,9,3,1],\n",
    "    \"desc\"   : [\"Creative, happy to tackle new challenges\", \"Enjoys meeting new people\", \"Cares about others\", \"Dislikes structure and schedules\", \"Deals well with stress\"]\n",
    "             })"
   ]
  },
  {
   "cell_type": "code",
   "execution_count": 56,
   "metadata": {},
   "outputs": [
    {
     "data": {
      "application/vnd.vegalite.v2+json": {
       "$schema": "https://vega.github.io/schema/vega-lite/v2.6.0.json",
       "config": {
        "view": {
         "height": 300,
         "width": 400
        }
       },
       "data": {
        "name": "data-c8f764373e798d8d0936189cbbc9bfaa"
       },
       "datasets": {
        "data-c8f764373e798d8d0936189cbbc9bfaa": [
         {
          "Personality traits": "Openness",
          "desc": "Creative, happy to tackle new challenges",
          "values": 8
         },
         {
          "Personality traits": "Extroversion",
          "desc": "Enjoys meeting new people",
          "values": 6
         },
         {
          "Personality traits": "Agreeableness",
          "desc": "Cares about others",
          "values": 9
         },
         {
          "Personality traits": "Conscientiousness",
          "desc": "Dislikes structure and schedules",
          "values": 3
         },
         {
          "Personality traits": "Neuroticism",
          "desc": "Deals well with stress",
          "values": 1
         }
        ]
       },
       "encoding": {
        "color": {
         "field": "Personality traits",
         "type": "nominal"
        },
        "size": {
         "field": "values",
         "type": "quantitative"
        },
        "tooltip": {
         "field": "desc",
         "type": "nominal"
        },
        "y": {
         "field": "Personality traits",
         "type": "nominal"
        }
       },
       "mark": "circle",
       "selection": {
        "selector008": {
         "bind": "scales",
         "encodings": [
          "x",
          "y"
         ],
         "mark": {
          "fill": "#333",
          "fillOpacity": 0.125,
          "stroke": "white"
         },
         "on": "[mousedown, window:mouseup] > window:mousemove!",
         "resolve": "global",
         "translate": "[mousedown, window:mouseup] > window:mousemove!",
         "type": "interval",
         "zoom": "wheel!"
        }
       }
      },
      "image/png": "[encoded data removed]",
      "text/plain": [
       "<VegaLite 2 object>\n",
       "\n",
       "If you see this message, it means the renderer has not been properly enabled\n",
       "for the frontend that you are using. For more information, see\n",
       "https://altair-viz.github.io/user_guide/troubleshooting.html\n"
      ]
     },
     "execution_count": 56,
     "metadata": {},
     "output_type": "execute_result"
    }
   ],
   "source": [
    "alt.Chart(data).mark_circle().encode(\n",
    "    y='Personality traits',\n",
    "    size='values',\n",
    "    color='Personality traits',\n",
    "    tooltip='desc',\n",
    ").interactive()"
   ]
  },
  {
   "cell_type": "code",
   "execution_count": 58,
   "metadata": {},
   "outputs": [
    {
     "data": {
      "application/vnd.vegalite.v2+json": {
       "$schema": "https://vega.github.io/schema/vega-lite/v2.6.0.json",
       "config": {
        "view": {
         "height": 300,
         "width": 400
        }
       },
       "data": {
        "name": "data-c8f764373e798d8d0936189cbbc9bfaa"
       },
       "datasets": {
        "data-c8f764373e798d8d0936189cbbc9bfaa": [
         {
          "Personality traits": "Openness",
          "desc": "Creative, happy to tackle new challenges",
          "values": 8
         },
         {
          "Personality traits": "Extroversion",
          "desc": "Enjoys meeting new people",
          "values": 6
         },
         {
          "Personality traits": "Agreeableness",
          "desc": "Cares about others",
          "values": 9
         },
         {
          "Personality traits": "Conscientiousness",
          "desc": "Dislikes structure and schedules",
          "values": 3
         },
         {
          "Personality traits": "Neuroticism",
          "desc": "Deals well with stress",
          "values": 1
         }
        ]
       },
       "encoding": {
        "color": {
         "field": "Personality traits",
         "type": "nominal"
        },
        "tooltip": {
         "field": "desc",
         "type": "nominal"
        },
        "x": {
         "field": "values",
         "type": "quantitative"
        },
        "y": {
         "field": "Personality traits",
         "type": "nominal"
        }
       },
       "mark": "rect",
       "selection": {
        "selector010": {
         "bind": "scales",
         "encodings": [
          "x",
          "y"
         ],
         "mark": {
          "fill": "#333",
          "fillOpacity": 0.125,
          "stroke": "white"
         },
         "on": "[mousedown, window:mouseup] > window:mousemove!",
         "resolve": "global",
         "translate": "[mousedown, window:mouseup] > window:mousemove!",
         "type": "interval",
         "zoom": "wheel!"
        }
       }
      },
      "image/png": "[encoded data removed]",
      "text/plain": [
       "<VegaLite 2 object>\n",
       "\n",
       "If you see this message, it means the renderer has not been properly enabled\n",
       "for the frontend that you are using. For more information, see\n",
       "https://altair-viz.github.io/user_guide/troubleshooting.html\n"
      ]
     },
     "execution_count": 58,
     "metadata": {},
     "output_type": "execute_result"
    }
   ],
   "source": [
    "alt.Chart(data).mark_rect().encode(\n",
    "    y='Personality traits',\n",
    "    x='values',\n",
    "    color='Personality traits',\n",
    "    tooltip='desc',\n",
    ").interactive()"
   ]
  },
  {
   "cell_type": "code",
   "execution_count": null,
   "metadata": {},
   "outputs": [],
   "source": []
  }
 ],
 "metadata": {
  "kernelspec": {
   "display_name": "Python 3",
   "language": "python",
   "name": "python3"
  },
  "language_info": {
   "codemirror_mode": {
    "name": "ipython",
    "version": 3
   },
   "file_extension": ".py",
   "mimetype": "text/x-python",
   "name": "python",
   "nbconvert_exporter": "python",
   "pygments_lexer": "ipython3",
   "version": "3.6.5"
  }
 },
 "nbformat": 4,
 "nbformat_minor": 2
}
